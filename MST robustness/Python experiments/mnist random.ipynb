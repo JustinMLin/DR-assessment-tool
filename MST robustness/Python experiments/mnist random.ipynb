{
 "cells": [
  {
   "cell_type": "code",
   "execution_count": 1,
   "id": "eb1588dc-2d68-401a-af7c-fbf2ae8004e8",
   "metadata": {},
   "outputs": [
    {
     "name": "stderr",
     "output_type": "stream",
     "text": [
      "/opt/anaconda3/envs/skenv/lib/python3.11/site-packages/torchvision/io/image.py:13: UserWarning: Failed to load image Python extension: 'dlopen(/opt/anaconda3/envs/skenv/lib/python3.11/site-packages/torchvision/image.so, 0x0006): Symbol not found: __ZN3c1017RegisterOperatorsD1Ev\n",
      "  Referenced from: <CFED5F8E-EC3F-36FD-AAA3-2C6C7F8D3DD9> /opt/anaconda3/envs/skenv/lib/python3.11/site-packages/torchvision/image.so\n",
      "  Expected in:     <761A4B43-4CD1-322C-BB16-CEE783FE0A7C> /opt/anaconda3/envs/skenv/lib/python3.11/site-packages/torch/lib/libtorch_cpu.dylib'If you don't plan on using image functionality from `torchvision.io`, you can ignore this warning. Otherwise, there might be something wrong with your environment. Did you have `libjpeg` or `libpng` installed before building `torchvision` from source?\n",
      "  warn(\n"
     ]
    }
   ],
   "source": [
    "import numpy as np\n",
    "import igraph as ig\n",
    "import random\n",
    "import matplotlib.pyplot as plt\n",
    "import random\n",
    "import torchvision.datasets as datasets\n",
    "import mst_tools\n",
    "\n",
    "from sklearn.decomposition import PCA\n",
    "from scipy.spatial import distance_matrix"
   ]
  },
  {
   "cell_type": "code",
   "execution_count": 2,
   "id": "3103eeaa-18fe-44ea-afea-ce3d13e9e60b",
   "metadata": {},
   "outputs": [],
   "source": [
    "mnist = datasets.MNIST(root='./data', train=True, download=True, transform=None)\n",
    "mnist_np = mnist.data.numpy()"
   ]
  },
  {
   "cell_type": "code",
   "execution_count": 3,
   "id": "250f37c9",
   "metadata": {},
   "outputs": [],
   "source": [
    "data = np.empty((60000,784))\n",
    "cluster = np.empty(60000)\n",
    "\n",
    "for i in range(60000):\n",
    "    data[i,:] = np.squeeze(mnist_np[i].reshape(1,784))\n",
    "    cluster[i] = mnist[i][1]"
   ]
  },
  {
   "cell_type": "code",
   "execution_count": 4,
   "id": "b2b72713",
   "metadata": {},
   "outputs": [],
   "source": [
    "n = 1500\n",
    "p = 300\n",
    "\n",
    "subsample = random.sample(range(60000), n)\n",
    "\n",
    "Z = data[subsample,:]\n",
    "real_labels = np.array(cluster[subsample], dtype=int)\n",
    "\n",
    "pca = PCA(n_components = p)\n",
    "Z_pca = pca.fit_transform(Z)\n",
    "Z_dist = distance_matrix(Z_pca, Z_pca)"
   ]
  },
  {
   "cell_type": "code",
   "execution_count": 5,
   "id": "bdd5c101",
   "metadata": {},
   "outputs": [],
   "source": [
    "og_mst = mst_tools.get_mst(Z_dist)\n",
    "og_tree = mst_tools.get_simple_medoid_mst(Z_dist, og_mst, real_labels)"
   ]
  },
  {
   "cell_type": "code",
   "execution_count": 6,
   "id": "87ab1c84",
   "metadata": {},
   "outputs": [],
   "source": [
    "b = 500\n",
    "RF= np.empty(b, dtype=float)\n",
    "\n",
    "count = 0\n",
    "for i in range(b):\n",
    "    permutation = np.array(random.sample(range(10), 10))\n",
    "    labels = permutation[np.array(real_labels, dtype=int)]\n",
    "    \n",
    "    tree = mst_tools.get_simple_medoid_mst(Z_dist, og_mst, labels)\n",
    "    \n",
    "    RF[count] = mst_tools.RF_dist(og_tree, tree)\n",
    "    \n",
    "    count += 1"
   ]
  },
  {
   "cell_type": "code",
   "execution_count": 7,
   "id": "8e76c9d1",
   "metadata": {
    "scrolled": true
   },
   "outputs": [
    {
     "data": {
      "text/plain": [
       "(array([  1.,   0.,   0.,   0.,   6.,   0.,  40.,   0., 181., 272.]),\n",
       " array([0.21428571, 0.25      , 0.28571429, 0.32142857, 0.35714286,\n",
       "        0.39285714, 0.42857143, 0.46428571, 0.5       , 0.53571429,\n",
       "        0.57142857]),\n",
       " <BarContainer object of 10 artists>)"
      ]
     },
     "execution_count": 7,
     "metadata": {},
     "output_type": "execute_result"
    },
    {
     "data": {
      "image/png": "[encoded data removed]",
      "text/plain": [
       "<Figure size 640x480 with 1 Axes>"
      ]
     },
     "metadata": {},
     "output_type": "display_data"
    }
   ],
   "source": [
    "plt.hist(RF)"
   ]
  },
  {
   "cell_type": "code",
   "execution_count": 11,
   "id": "abac7ccf",
   "metadata": {},
   "outputs": [],
   "source": [
    "np.savetxt('mnist_random.txt', RF)"
   ]
  }
 ],
 "metadata": {
  "kernelspec": {
   "display_name": "Python [conda env:skenv] *",
   "language": "python",
   "name": "conda-env-skenv-py"
  },
  "language_info": {
   "codemirror_mode": {
    "name": "ipython",
    "version": 3
   },
   "file_extension": ".py",
   "mimetype": "text/x-python",
   "name": "python",
   "nbconvert_exporter": "python",
   "pygments_lexer": "ipython3",
   "version": "3.11.8"
  }
 },
 "nbformat": 4,
 "nbformat_minor": 5
}
